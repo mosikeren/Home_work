{
 "cells": [
  {
   "cell_type": "markdown",
   "metadata": {},
   "source": [
    "Лабораторная работа по модулю “Python для анализа данных”"
   ]
  },
  {
   "cell_type": "markdown",
   "metadata": {},
   "source": [
    "1.1 Дан   произвольный   список, содержащий только числа.Выведите результат сложения всех чисел больше 10."
   ]
  },
  {
   "cell_type": "code",
   "execution_count": 10,
   "metadata": {},
   "outputs": [],
   "source": [
    "number_list = [23,45,2,1,3,6,12,34,10,89,6,4]"
   ]
  },
  {
   "cell_type": "code",
   "execution_count": 11,
   "metadata": {},
   "outputs": [],
   "source": [
    "sum10 = sum([x for x in number_list if x>10])"
   ]
  },
  {
   "cell_type": "code",
   "execution_count": 14,
   "metadata": {},
   "outputs": [
    {
     "data": {
      "text/plain": [
       "203"
      ]
     },
     "execution_count": 14,
     "metadata": {},
     "output_type": "execute_result"
    }
   ],
   "source": [
    "sum10"
   ]
  },
  {
   "cell_type": "markdown",
   "metadata": {},
   "source": [
    "1.2 Пусть   задан   список, содержащий строки.Выведите все строки, заканчивающиеся буквой r."
   ]
  },
  {
   "cell_type": "code",
   "execution_count": 24,
   "metadata": {},
   "outputs": [],
   "source": [
    "str_list = [\n",
    "    'qydyu',\n",
    "    'wqj iwqdjr',\n",
    "    'wq32 12 ssd',\n",
    "    '9ed892r',\n",
    "    'r',\n",
    "    'r '\n",
    "]"
   ]
  },
  {
   "cell_type": "code",
   "execution_count": 25,
   "metadata": {},
   "outputs": [
    {
     "name": "stdout",
     "output_type": "stream",
     "text": [
      "wqj iwqdjr\n",
      "9ed892r\n",
      "r\n"
     ]
    }
   ],
   "source": [
    "for i in str_list:\n",
    "    if i.endswith('r'):\n",
    "        print(i)"
   ]
  },
  {
   "cell_type": "markdown",
   "metadata": {},
   "source": [
    "1. 3   Сгенерируйте   и   выведите cлучайную строку размером 6 символов, содержащую только цифры. Строка должна содержать хотя бы одну цифру 3."
   ]
  },
  {
   "cell_type": "code",
   "execution_count": 27,
   "metadata": {},
   "outputs": [],
   "source": [
    "import random"
   ]
  },
  {
   "cell_type": "code",
   "execution_count": 37,
   "metadata": {},
   "outputs": [],
   "source": [
    "def random_string(n):\n",
    "    rs=''\n",
    "    for i in range(n):\n",
    "        rs+=str(random.randint(0, 9))\n",
    "    return rs"
   ]
  },
  {
   "cell_type": "code",
   "execution_count": 40,
   "metadata": {},
   "outputs": [
    {
     "name": "stdout",
     "output_type": "stream",
     "text": [
      "389918\n"
     ]
    }
   ],
   "source": [
    "rs=''\n",
    "while '3' not in rs:\n",
    "    rs=random_string(6)\n",
    "print(rs)"
   ]
  },
  {
   "cell_type": "markdown",
   "metadata": {},
   "source": [
    "1.4 Пусть   дана строка произвольной длины. Выведите информацию о том,сколько в ней символов и сколько слов."
   ]
  },
  {
   "cell_type": "code",
   "execution_count": 43,
   "metadata": {},
   "outputs": [],
   "source": [
    "row='qeuu, werer ertqe qe: ert erqt ert qer '"
   ]
  },
  {
   "cell_type": "code",
   "execution_count": 87,
   "metadata": {},
   "outputs": [
    {
     "name": "stdout",
     "output_type": "stream",
     "text": [
      "Символов в предложении:  29\n",
      "Слов в предложении:  8\n"
     ]
    }
   ],
   "source": [
    "row=row.strip()\n",
    "row_list=row.split(' ')\n",
    "symbols_sum=0\n",
    "for i in row_list:\n",
    "    temp=i\n",
    "    if temp[-1] in [',','.',':',';']:   #знаки препинания в словах не считаем\n",
    "        temp=temp[:-1]\n",
    "    symbols_sum+=len(temp)\n",
    "print ('Символов в предложении: ',symbols_sum)\n",
    "print ('Слов в предложении: ', len(row_list))"
   ]
  },
  {
   "cell_type": "markdown",
   "metadata": {},
   "source": [
    "2.1 Пусть   дана матрица чисел размером NхN. Представьте данную матрицу ввиде списка. Выведите результат сложения всех элементов матрицы"
   ]
  },
  {
   "cell_type": "code",
   "execution_count": 49,
   "metadata": {},
   "outputs": [],
   "source": [
    "import numpy as np"
   ]
  },
  {
   "cell_type": "code",
   "execution_count": 56,
   "metadata": {},
   "outputs": [],
   "source": [
    "mat=[\n",
    "    [1,2,4],\n",
    "    [6,4,2],\n",
    "    [4,9,0]\n",
    "]\n",
    "mat=np.array(mat)"
   ]
  },
  {
   "cell_type": "code",
   "execution_count": 57,
   "metadata": {},
   "outputs": [
    {
     "data": {
      "text/plain": [
       "32"
      ]
     },
     "execution_count": 57,
     "metadata": {},
     "output_type": "execute_result"
    }
   ],
   "source": [
    "sum(sum(mat))"
   ]
  },
  {
   "cell_type": "markdown",
   "metadata": {},
   "source": [
    "2.  2 Дана матрица размером NxM. Напишите алгоритм вычисления максимума из сумм элементов каждого столбца"
   ]
  },
  {
   "cell_type": "code",
   "execution_count": 61,
   "metadata": {},
   "outputs": [],
   "source": [
    "mat=[\n",
    "    [1,2,4,3],\n",
    "    [6,4,2,4],\n",
    "    [4,9,0,6]\n",
    "]\n",
    "mat=np.array(mat)"
   ]
  },
  {
   "cell_type": "code",
   "execution_count": 63,
   "metadata": {},
   "outputs": [
    {
     "data": {
      "text/plain": [
       "15"
      ]
     },
     "execution_count": 63,
     "metadata": {},
     "output_type": "execute_result"
    }
   ],
   "source": [
    "max(sum(mat))"
   ]
  },
  {
   "cell_type": "markdown",
   "metadata": {},
   "source": [
    "3.1 Пусть   список студентов представлен в виде структуры [[No, ФИО, Возраст,Группа],[No, ФИО, Возраст, Группа],[No, ФИО, Возраст, Группа]]. Преобразуйте список в словарь вида: {No: [ФИО, Возраст, Группа], No:[....], No: [....]}"
   ]
  },
  {
   "cell_type": "code",
   "execution_count": 64,
   "metadata": {},
   "outputs": [],
   "source": [
    "students=[\n",
    "    [1,'Федоров Н.А', 18, 'МС-121'],\n",
    "    [3, 'Егорова К.В', 19, 'АСУ-210'],\n",
    "    [4, 'Иванов А.А', 19, 'АД-206']\n",
    "]"
   ]
  },
  {
   "cell_type": "code",
   "execution_count": 66,
   "metadata": {},
   "outputs": [],
   "source": [
    "dict_stud={}\n",
    "for i in students:\n",
    "    dict_stud.setdefault(i[0],[i[1],i[2],i[3]])"
   ]
  },
  {
   "cell_type": "code",
   "execution_count": 67,
   "metadata": {},
   "outputs": [
    {
     "data": {
      "text/plain": [
       "{1: ['Федоров Н.А', 18, 'МС-121'],\n",
       " 3: ['Егорова К.В', 19, 'АСУ-210'],\n",
       " 4: ['Иванов А.А', 19, 'АД-206']}"
      ]
     },
     "execution_count": 67,
     "metadata": {},
     "output_type": "execute_result"
    }
   ],
   "source": [
    "dict_stud"
   ]
  },
  {
   "cell_type": "markdown",
   "metadata": {},
   "source": [
    "3.2 Напишите алгоритм, позволяющий найти запись в словаре из задачи 3.1 (без преобразования словаря обратно в список) по фамилии и изменить в ней номер группы. Фамилию и новый номер группы необходимо ввести с клавиатуры."
   ]
  },
  {
   "cell_type": "code",
   "execution_count": 71,
   "metadata": {},
   "outputs": [
    {
     "name": "stdout",
     "output_type": "stream",
     "text": [
      "Введите фамилию: Иванов\n"
     ]
    }
   ],
   "source": [
    "surname = input('Введите фамилию: ')"
   ]
  },
  {
   "cell_type": "code",
   "execution_count": 73,
   "metadata": {},
   "outputs": [
    {
     "name": "stdout",
     "output_type": "stream",
     "text": [
      "Введите новый номер группы: КС-109\n"
     ]
    }
   ],
   "source": [
    "group = input('Введите новый номер группы: ')"
   ]
  },
  {
   "cell_type": "code",
   "execution_count": 74,
   "metadata": {},
   "outputs": [],
   "source": [
    "for k,v in dict_stud.items():\n",
    "    if surname in v[0]:\n",
    "        v[2]=group\n",
    "        break\n",
    "        "
   ]
  },
  {
   "cell_type": "code",
   "execution_count": 75,
   "metadata": {},
   "outputs": [
    {
     "data": {
      "text/plain": [
       "{1: ['Федоров Н.А', 18, 'МС-121'],\n",
       " 3: ['Егорова К.В', 19, 'АСУ-210'],\n",
       " 4: ['Иванов А.А', 19, 'КС-109']}"
      ]
     },
     "execution_count": 75,
     "metadata": {},
     "output_type": "execute_result"
    }
   ],
   "source": [
    "dict_stud"
   ]
  },
  {
   "cell_type": "markdown",
   "metadata": {},
   "source": [
    "3.  3 Напишите алгоритм, позволяющий аналогично задаче 3.2 изменить возраст студент"
   ]
  },
  {
   "cell_type": "code",
   "execution_count": 76,
   "metadata": {},
   "outputs": [
    {
     "name": "stdout",
     "output_type": "stream",
     "text": [
      "Введите фамилию: Егорова\n"
     ]
    }
   ],
   "source": [
    "surname = input('Введите фамилию: ')"
   ]
  },
  {
   "cell_type": "code",
   "execution_count": 77,
   "metadata": {},
   "outputs": [
    {
     "name": "stdout",
     "output_type": "stream",
     "text": [
      "Введите новый возраст: 20\n"
     ]
    }
   ],
   "source": [
    "age = input('Введите новый возраст: ')"
   ]
  },
  {
   "cell_type": "code",
   "execution_count": 78,
   "metadata": {},
   "outputs": [],
   "source": [
    "for k,v in dict_stud.items():\n",
    "    if surname in v[0]:\n",
    "        v[1]=age\n",
    "        break"
   ]
  },
  {
   "cell_type": "code",
   "execution_count": 79,
   "metadata": {},
   "outputs": [
    {
     "data": {
      "text/plain": [
       "{1: ['Федоров Н.А', 18, 'МС-121'],\n",
       " 3: ['Егорова К.В', '20', 'АСУ-210'],\n",
       " 4: ['Иванов А.А', 19, 'КС-109']}"
      ]
     },
     "execution_count": 79,
     "metadata": {},
     "output_type": "execute_result"
    }
   ],
   "source": [
    "dict_stud"
   ]
  },
  {
   "cell_type": "code",
   "execution_count": null,
   "metadata": {},
   "outputs": [],
   "source": []
  }
 ],
 "metadata": {
  "kernelspec": {
   "display_name": "Python 3",
   "language": "python",
   "name": "python3"
  },
  "language_info": {
   "codemirror_mode": {
    "name": "ipython",
    "version": 3
   },
   "file_extension": ".py",
   "mimetype": "text/x-python",
   "name": "python",
   "nbconvert_exporter": "python",
   "pygments_lexer": "ipython3",
   "version": "3.7.3"
  }
 },
 "nbformat": 4,
 "nbformat_minor": 2
}
