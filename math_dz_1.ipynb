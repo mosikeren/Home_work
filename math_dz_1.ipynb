{
 "cells": [
  {
   "cell_type": "markdown",
   "metadata": {
    "colab_type": "text",
    "id": "view-in-github"
   },
   "source": [
    "<a href=\"https://colab.research.google.com/github/yustinaivanova/math_netology/blob/master/dz_1.ipynb\" target=\"_parent\"><img src=\"https://colab.research.google.com/assets/colab-badge.svg\" alt=\"Open In Colab\"/></a>"
   ]
  },
  {
   "cell_type": "markdown",
   "metadata": {
    "colab_type": "text",
    "id": "hTHl3kyDWIGO"
   },
   "source": [
    "# Математики для data science.\n",
    "# Домашнее задание 1."
   ]
  },
  {
   "cell_type": "markdown",
   "metadata": {
    "colab_type": "text",
    "id": "OAJG6826Pnft"
   },
   "source": [
    "**Задание на отображение множеств.**"
   ]
  },
  {
   "cell_type": "markdown",
   "metadata": {
    "colab_type": "text",
    "id": "lHtJSvE3Pt9i"
   },
   "source": [
    "**Задание 1.**"
   ]
  },
  {
   "cell_type": "markdown",
   "metadata": {
    "colab_type": "text",
    "id": "pRTF1ROCPxoR"
   },
   "source": [
    "Написать функцию отображения элементов одного множества в другое. Первое множество - художники, второе множество - картины художников.\n",
    "Множество художников - Серов, Левитан, Репин, Васнецов, Шишкин. \n",
    "Множество картин - \"Утро в сосновом бору\", \"Богатыри\", \"Золотая осень\", \"Девочка с персиками\", \"Запорожцы\", \"Буралки на Волге\", \"Март\", \"Алёнушка\". \n"
   ]
  },
  {
   "cell_type": "code",
   "execution_count": 1,
   "metadata": {},
   "outputs": [
    {
     "data": {
      "text/plain": [
       "{'Шишкин': ['Утро в сосновом бору'],\n",
       " 'Васнецов': ['Богатыри', 'Алёнушка'],\n",
       " 'Левитан': ['Золотая осень', 'Март'],\n",
       " 'Серов': ['Девочка с персиками'],\n",
       " 'Репин': ['Запорожцы', 'Бурлаки на Волге']}"
      ]
     },
     "execution_count": 1,
     "metadata": {},
     "output_type": "execute_result"
    }
   ],
   "source": [
    "\"\"\"\n",
    "Метод 1 - словарь \"\"\"\n",
    "\n",
    "artist=['Серов', 'Левитан', 'Репин', 'Васнецов', 'Шишкин']\n",
    "painting=[\"Утро в сосновом бору\", \"Богатыри\", \"Золотая осень\", \"Девочка с персиками\", \\\n",
    "          \"Запорожцы\", \"Бурлаки на Волге\", \"Март\", \"Алёнушка\"]\n",
    "\n",
    "dict_func=dict()\n",
    "dict_func['Шишкин']=[painting[0]]\n",
    "dict_func['Васнецов']=[painting[1],painting[7]]\n",
    "dict_func['Левитан']=[painting[2],painting[6]]\n",
    "dict_func['Серов']=[painting[3]]\n",
    "dict_func['Репин']=[painting[4],painting[5]]\n",
    "dict_func"
   ]
  },
  {
   "cell_type": "code",
   "execution_count": 2,
   "metadata": {},
   "outputs": [],
   "source": [
    "\"\"\"\n",
    "Метод 2 - программная функция\"\"\"\n",
    "\n",
    "def artists(painting):\n",
    "    for k,v in dict_func.items():\n",
    "        if painting in v:\n",
    "            return k\n",
    "    return 'Аргумент функции вне допустимых значений'"
   ]
  },
  {
   "cell_type": "code",
   "execution_count": 3,
   "metadata": {},
   "outputs": [
    {
     "data": {
      "text/plain": [
       "'Серов'"
      ]
     },
     "execution_count": 3,
     "metadata": {},
     "output_type": "execute_result"
    }
   ],
   "source": [
    "artists('Девочка с персиками')"
   ]
  },
  {
   "cell_type": "markdown",
   "metadata": {
    "colab_type": "text",
    "id": "4QwS5m7CWXY3"
   },
   "source": [
    "**Полиномиальные функции.**"
   ]
  },
  {
   "cell_type": "markdown",
   "metadata": {
    "colab_type": "text",
    "id": "thQjcSL7WbIY"
   },
   "source": [
    "**Задание 2**. \n",
    "Найти из следующих функций те, которые являются полиномиальной функцией."
   ]
  },
  {
   "cell_type": "markdown",
   "metadata": {
    "colab_type": "text",
    "id": "GbDQjj-pWjqm"
   },
   "source": [
    "1) Полиномиальная функция с коэффициентами (0.5, 0, 0, 0, 0, 11/6, 1/3). Так как аргументы находятся в степенях, принадлежащих множеству натуральных чисел\n",
    "*  $$f(x)=\\frac{1}{2}x^{6}-1\\frac{5}{6}x+\\frac{1}{3}$$\n",
    "\n",
    "2) Полиномиальная функция с коэффициентами (0.5, 0, 0, 0, 0, 11/6, 1/3) - то же, что и 1)\n",
    "*  $$f(x)=\\frac{3x^{6}-11x+2}{6}$$\n",
    "\n",
    "3) Не полиномиальная функция, так как при разложении дроби будет аргумент в степени (-1)- не принадлежит к множеству натуральных чисел\n",
    "*  $$f(x)=\\frac{3x^{6}-11x+2}{6x}$$\n",
    "\n",
    "4) Не полиномиальная функция, так как есть аргумент в степени (-2) - не принадлежит к множеству натуральных чисел\n",
    "*  $$f(x)=x^{5}-3x^{2}+7x^{-2}$$\n",
    "\n",
    "5) Полиномиальная функция 6-й степени. После раскрытия скобок все аргументы будут со степенями, принадлежащими к множеству натуральных чисел\n",
    "*  $$f(x)=(5x^{2}-2)^3-\\frac{1}{2}x^{3}$$\n",
    "\n",
    "6) Не полиномиальная функция, так как после раскрытия скобок некоторые аргументы будут с дробными степенями\n",
    "*  $$f(x)=(1+\\sqrt{x})^{3}-5(1+\\sqrt{x})$$\n",
    "\n",
    "7) Частный случай полиномиальной функции степени 0. \n",
    "*  $$f(x)=\\pi $$\n",
    "\n"
   ]
  },
  {
   "cell_type": "markdown",
   "metadata": {
    "colab_type": "text",
    "id": "2SOZDLZQW9vK"
   },
   "source": [
    "**Задание 3**. Раскрыть скобки для следующего полинома $$(2x+1)^{2}(x-1)-x(4x^{2}-1)-x(4x^{2}-1)=ax^3+bx^2+cx+d$$ найти коэффициенты для a, b, c, d."
   ]
  },
  {
   "cell_type": "markdown",
   "metadata": {},
   "source": [
    "$$(2x+1)^{2}(x-1)-x(4x^{2}-1)-x(4x^{2}-1)=$$\n",
    "$$=(4x^{2}+4x+1)(x-1)-4x^{3}+x-4x^{3}+x$$\n",
    "$$=4x^{3}+4x^{2}+x-4x^{2}-4x-1-8x^{3}+2x=$$\n",
    "# $$=-4x^{3}-x-1$$"
   ]
  },
  {
   "cell_type": "code",
   "execution_count": 4,
   "metadata": {},
   "outputs": [],
   "source": [
    "\"\"\"\n",
    "Коффициенты   \"\"\"\n",
    "\n",
    "a =-4\n",
    "b = 0\n",
    "c =-1\n",
    "d =-1"
   ]
  },
  {
   "cell_type": "markdown",
   "metadata": {},
   "source": [
    "Проверка:"
   ]
  },
  {
   "cell_type": "code",
   "execution_count": 5,
   "metadata": {},
   "outputs": [],
   "source": [
    "def f1(x):\n",
    "    return (2*x+1)**2*(x-1)-x*(4*x**2-1)-x*(4*x**2-1)\n",
    "def f2(x):\n",
    "    return a*x**3+c*x+d"
   ]
  },
  {
   "cell_type": "code",
   "execution_count": 6,
   "metadata": {},
   "outputs": [
    {
     "name": "stdout",
     "output_type": "stream",
     "text": [
      "-1 -1\n",
      "-6 -6\n",
      "-35 -35\n",
      "-112 -112\n",
      "-261 -261\n"
     ]
    }
   ],
   "source": [
    "for i in range(0,5):\n",
    "    print (f1(i),f2(i))"
   ]
  },
  {
   "cell_type": "markdown",
   "metadata": {
    "colab_type": "text",
    "id": "FW0p4xjzIdRZ"
   },
   "source": [
    "Для данного задания полезно использовать следующие формулы сокращенного умножения:\n",
    "![alt text](https://sun9-38.userapi.com/c851232/v851232044/19c5b0/7Yy6qz-MUHA.jpg)"
   ]
  },
  {
   "cell_type": "markdown",
   "metadata": {
    "colab_type": "text",
    "id": "hETFA0bzXYdw"
   },
   "source": [
    "Чему равна степень полинома?\n",
    "* Степень полинома равна 3"
   ]
  },
  {
   "cell_type": "markdown",
   "metadata": {
    "colab_type": "text",
    "id": "EH8FFbsvt64f"
   },
   "source": [
    "Нарисовать график для полинома."
   ]
  },
  {
   "cell_type": "code",
   "execution_count": 7,
   "metadata": {},
   "outputs": [],
   "source": [
    "import numpy as np\n",
    "import matplotlib.pyplot as plt"
   ]
  },
  {
   "cell_type": "markdown",
   "metadata": {},
   "source": [
    "Для построения графика воспользуемся функцией f2, которую мы создали выше на этапе проверки разложения многочлена"
   ]
  },
  {
   "cell_type": "code",
   "execution_count": 8,
   "metadata": {
    "colab": {},
    "colab_type": "code",
    "id": "wk89rocGSoYC"
   },
   "outputs": [
    {
     "data": {
      "image/png": "[encoded data removed]",
      "text/plain": [
       "<Figure size 432x288 with 1 Axes>"
      ]
     },
     "metadata": {
      "needs_background": "light"
     },
     "output_type": "display_data"
    }
   ],
   "source": [
    "# создаем вектор x\n",
    "x1 = np.linspace(-1.5, 1.5, 100)\n",
    "# на основе вектора x строим значения для вектора y\n",
    "y1 = [f2(x1[i]) for i in range(len(x1))]\n",
    "\n",
    "plt.plot(x1, y1)\n",
    "plt.title('График функции')\n",
    "plt.ylabel('y')\n",
    "plt.xlabel('x')\n",
    "\n",
    "plt.plot([-1.7,1.7],[0,0], linewidth=0.5, color='g')\n",
    "plt.plot([0,0], [-17,17], linewidth=0.5, color='g')\n",
    "\n",
    "plt.show()"
   ]
  },
  {
   "cell_type": "markdown",
   "metadata": {
    "colab_type": "text",
    "id": "YnGld7mvZNUB"
   },
   "source": [
    "**Задание 3**.\n",
    "Для заданных функций найти подходящий график (не все функции имеют график):\n",
    "$\\frac{3}{4}x-1$,  $\\frac{3}{4}x+2$, $2-2x$, $2+2x$, $\\frac{1}{4}(x+1)^{2}-2 $, $\\frac{1}{4}(x-1)^2-2$, $(x-1)(x-3)$, $(x+1)(x+3)$, $2-x^2$, $2-\\frac{1}{4}x^2$"
   ]
  },
  {
   "cell_type": "markdown",
   "metadata": {
    "colab_type": "text",
    "id": "8TCnR4urZX_A"
   },
   "source": [
    "![alt text](https://pp.userapi.com/c855532/v855532908/aadd4/uWjIZGDfw0s.jpg)"
   ]
  },
  {
   "cell_type": "markdown",
   "metadata": {},
   "source": [
    "1) $$\\frac{3}{4}x-1$$  \n",
    "* Это линейная функция, коэффициент при аргументе положительный, что говорит о наклоне графика функции вправо. \n",
    "* Свободный коэффициент - отрицательный, то есть график будет пересекать ось ординат ниже оси абцисс\n",
    "* График этой функции на рисунке расположен внизу посередине"
   ]
  },
  {
   "cell_type": "markdown",
   "metadata": {},
   "source": [
    "2) $$\\frac{3}{4}x+2$$\n",
    "* Это линейная функция, коэффициент при аргументе положительный, что говорит о наклоне графика функции вправо.\n",
    "* Свободный коэффициент - положительный, то есть график будет пересекать ось ординат выше оси абцисс\n",
    "* График этой функции на рисунке выше не представлен"
   ]
  },
  {
   "cell_type": "markdown",
   "metadata": {},
   "source": [
    "3) $$2-2x$$\n",
    "* Это линейная функция, коэффициент при аргументе отрицательный, что говорит о наклоне графика функции влево.\n",
    "* Свободный коэффициент - положительный, то есть график будет пересекать ось ординат выше оси абцисс\n",
    "* График этой функции на рисунке расположен вверху слева"
   ]
  },
  {
   "cell_type": "markdown",
   "metadata": {},
   "source": [
    "4) $$2+2x$$\n",
    "* Это линейная функция, коэффициент при аргументе положительный, что говорит о наклоне графика функции вправо.\n",
    "* Свободный коэффициент - положительный, то есть график будет пересекать ось ординат выше оси абцисс\n",
    "* График этой функции на рисунке выше не представлен"
   ]
  },
  {
   "cell_type": "markdown",
   "metadata": {},
   "source": [
    "5) $$\\frac{1}{4}(x+1)^{2}-2 $$\n",
    "* Это квадратичная функция в альтернативном исполнении. Графиком функции является парабола\n",
    "* Коэффициент, находящийся в скобках с аргументом (1), положительный. Свободный коэффициент (-2) отрицательный. Это значит, что вершина параболы находится ниже оси абцисс, левее оси ординат\n",
    "* Старший коэффициент после раскрытия скобок, очевидно, будет положительным, значит ветви параболы направлены вверх\n",
    "* Нужно проверить, как будут расположены корни многочлена, для этого раскроем скобки, чтобы найти корни:\n",
    "$$\\frac{1}{4}(x+1)^{2}-2=\\frac{1}{4}(x^{2}+2x+1)-2=\\frac{1}{4}x^{2}+\\frac{1}{2}x-\\frac{7}{4} $$"
   ]
  },
  {
   "cell_type": "code",
   "execution_count": 9,
   "metadata": {},
   "outputs": [
    {
     "data": {
      "text/plain": [
       "(-3.82842712474619, 1.8284271247461903)"
      ]
     },
     "execution_count": 9,
     "metadata": {},
     "output_type": "execute_result"
    }
   ],
   "source": [
    "import numpy as np\n",
    "\"\"\"\n",
    "Корни находим с помощью метода roots\"\"\"\n",
    "\n",
    "x1,x2=np.roots([0.25,0.5,-7/4])\n",
    "x1,x2"
   ]
  },
  {
   "cell_type": "markdown",
   "metadata": {},
   "source": [
    "* Корни многочлена, т.е. точки пересечения параболы с осью абцисс, расположены по разные стороны оси ординат.\n",
    "* Очевидно, график этой функции расположен на рисунке снизу слева"
   ]
  },
  {
   "cell_type": "markdown",
   "metadata": {},
   "source": [
    "6) $$\\frac{1}{4}(x-1)^2-2$$"
   ]
  },
  {
   "cell_type": "markdown",
   "metadata": {},
   "source": [
    "* Это квадратичная функция в альтернативном исполнении. Графиком функции является парабола\n",
    "* Коэффициент, находящийся в скобках с аргументом (-1), отрицательный. Свободный коэффициент (-2) отрицательный. Это значит, что вершина параболы находится ниже оси абцисс, правее оси ординат\n",
    "* Старший коэффициент после раскрытия скобок, очевидно, будет положительным, значит ветви параболы направлены вверх\n",
    "* Нужно проверить, как будут расположены корни многочлена:\n",
    "$$\\frac{1}{4}(x-1)^{2}-2=\\frac{1}{4}(x^{2}-2x+1)-2=\\frac{1}{4}x^{2}-\\frac{1}{2}x-\\frac{7}{4} $$"
   ]
  },
  {
   "cell_type": "code",
   "execution_count": 10,
   "metadata": {},
   "outputs": [
    {
     "data": {
      "text/plain": [
       "(3.82842712474619, -1.8284271247461903)"
      ]
     },
     "execution_count": 10,
     "metadata": {},
     "output_type": "execute_result"
    }
   ],
   "source": [
    "x1,x2=np.roots([0.25,-0.5,-7/4])\n",
    "x1,x2"
   ]
  },
  {
   "cell_type": "markdown",
   "metadata": {},
   "source": [
    "* Корни многочлена, т.е. точки пересечения параболы с осью абцисс, расположены по разные стороны оси ординат.\n",
    "* Такого графика на рисунке выше нет"
   ]
  },
  {
   "cell_type": "markdown",
   "metadata": {},
   "source": [
    "7) $$(x-1)(x-3)$$\n",
    "* Это квадратичная функция. Раскроем скобки $$(x-1)(x-3)=x^{2}-4x+3$$\n",
    "* Старший коэфициент положительный, значит ветви параболы направлены вверх\n",
    "* Нужно проверить, как будут расположены корни многочлена:"
   ]
  },
  {
   "cell_type": "code",
   "execution_count": 11,
   "metadata": {},
   "outputs": [
    {
     "data": {
      "text/plain": [
       "(3.0, 1.0)"
      ]
     },
     "execution_count": 11,
     "metadata": {},
     "output_type": "execute_result"
    }
   ],
   "source": [
    "x1,x2=np.roots([1,-4,3])\n",
    "x1,x2"
   ]
  },
  {
   "cell_type": "markdown",
   "metadata": {},
   "source": [
    "* Корни многочлена, т.е. точки пересечения параболы с осью абцисс, расположены правее оси ординат.\n",
    "* Следовательно, вершина параболы также будет правее оси ординат\n",
    "* График этой функции на рисунке выше расположен снизу справа"
   ]
  },
  {
   "cell_type": "markdown",
   "metadata": {},
   "source": [
    "8) $$(x+1)(x+3)$$\n",
    "* Это квадратичная функция. Раскроем скобки $$(x+1)(x+3)=x^{2}+4x+3$$\n",
    "* Старший коэфициент положительный, значит ветви параболы направлены вверх\n",
    "* Нужно проверить, как будут расположены корни многочлена:"
   ]
  },
  {
   "cell_type": "code",
   "execution_count": 12,
   "metadata": {},
   "outputs": [
    {
     "data": {
      "text/plain": [
       "(-3.0, -1.0)"
      ]
     },
     "execution_count": 12,
     "metadata": {},
     "output_type": "execute_result"
    }
   ],
   "source": [
    "x1,x2=np.roots([1,4,3])\n",
    "x1,x2"
   ]
  },
  {
   "cell_type": "markdown",
   "metadata": {},
   "source": [
    "* Корни многочлена, т.е. точки пересечения параболы с осью абцисс, расположены левее оси ординат.\n",
    "* Такого графика на рисунке выше нет"
   ]
  },
  {
   "cell_type": "markdown",
   "metadata": {},
   "source": [
    "9) $$2-x^2$$\n",
    "* Это квадратичная функция\n",
    "* Старший коэффициент отрицательный, ветви параболы направлены вниз\n",
    "* Вершина параболы расположена на оси ординат выше оси абцисс (т.к. свободный коэффициент положительный)\n",
    "* Графиком данной функции могут быть линии, расположенные на рисунке сверху посередине и справа (в зависимости от масштаба)"
   ]
  },
  {
   "cell_type": "markdown",
   "metadata": {},
   "source": [
    "10) $$2-\\frac{1}{4}x^2$$\n",
    "* Схожая с предыдущей функция, но старший коэффициент в 4 раза меньше. То есть парабола будет шире\n",
    "* Исходя из этого, при одинаковом масштабе, графиком функции (9) будет график сверху справа, графиком функции (10) - график сверху посередине"
   ]
  },
  {
   "cell_type": "markdown",
   "metadata": {
    "colab_type": "text",
    "id": "v4PsJSrlbGni"
   },
   "source": [
    "**Задание 4.** Найти минимальную степень следующего полинома:\n",
    "\n",
    "![alt text](https://pp.userapi.com/c855532/v855532908/aadcd/PZdPYTQT02A.jpg)"
   ]
  },
  {
   "cell_type": "markdown",
   "metadata": {},
   "source": [
    "* На графике видим 5 пересечений с осью абцисс.\n",
    "* По графику видно, что функция имеет 4 точки экстремума. Значит невозможно провести горизонтальную линию, которая бы имела больше 5 пересечений с графиком\n",
    "* Следовательно минимальная степень полинома - 5"
   ]
  },
  {
   "cell_type": "markdown",
   "metadata": {
    "colab_type": "text",
    "id": "In-LISkBGJ1u"
   },
   "source": [
    "**Задания повышенного уровня**"
   ]
  },
  {
   "cell_type": "markdown",
   "metadata": {
    "colab_type": "text",
    "id": "FGmhJtvceZO6"
   },
   "source": [
    "Почему следующие функции не являются полиномиальными?\n",
    "$$y=5x^{-2}+1$$\n",
    "$$y=3x^{1/2}+2$$\n",
    "$$y=(5x+1)/(3x)$$"
   ]
  },
  {
   "cell_type": "markdown",
   "metadata": {},
   "source": [
    "* Первая и третья функции имеют аргументы с отрицательной степенью. \n",
    "* Вторая функция имеет аргумент с дробной степенью\n",
    "* По определению полиноминальная функция состоит только из слагаемых аргументов, степени которых принадлежат множеству натуральных чисел\n",
    "* Следовательно, данные функции не полиноминальные"
   ]
  },
  {
   "cell_type": "markdown",
   "metadata": {
    "colab_type": "text",
    "id": "XyzbTtgEezLl"
   },
   "source": [
    "Найдите наибольшее и наименьшее значение функции $y = x^3 + 2x^2 + x + 3 $ на отрезке [-4;-1]. "
   ]
  },
  {
   "cell_type": "markdown",
   "metadata": {},
   "source": [
    "1) Вычислим производную данной функции"
   ]
  },
  {
   "cell_type": "code",
   "execution_count": 13,
   "metadata": {},
   "outputs": [
    {
     "data": {
      "text/plain": [
       "3*x**2 + 4*x + 1"
      ]
     },
     "execution_count": 13,
     "metadata": {},
     "output_type": "execute_result"
    }
   ],
   "source": [
    "from sympy import diff, symbols\n",
    "x = symbols('x')\n",
    "diff(x**3 + 2*x**2 + x + 3)"
   ]
  },
  {
   "cell_type": "markdown",
   "metadata": {},
   "source": [
    "2) найдем корни производной"
   ]
  },
  {
   "cell_type": "code",
   "execution_count": 14,
   "metadata": {},
   "outputs": [
    {
     "data": {
      "text/plain": [
       "(-1.0, -0.3333333333333333)"
      ]
     },
     "execution_count": 14,
     "metadata": {},
     "output_type": "execute_result"
    }
   ],
   "source": [
    "x1,x2=np.roots([3,4,1])\n",
    "x1,x2"
   ]
  },
  {
   "cell_type": "markdown",
   "metadata": {},
   "source": [
    "Один из корней производной находится на краю исследуемого отрезка, второй вне его. Следовательно, на всем отрезке функция монотонна. То есть максимальное и минимальное значения находятся на краях отрезка"
   ]
  },
  {
   "cell_type": "markdown",
   "metadata": {},
   "source": [
    "3) вычислим значения функции на краях исследуемого отрезка"
   ]
  },
  {
   "cell_type": "code",
   "execution_count": 16,
   "metadata": {},
   "outputs": [
    {
     "name": "stdout",
     "output_type": "stream",
     "text": [
      "Наименьшее значение функции на исследуемом отрезке: -33\n",
      "Наибольшее значение функции на исследуемом отрезке: 3\n"
     ]
    }
   ],
   "source": [
    "x=-4\n",
    "y1=x**3 + 2*x**2 + x + 3\n",
    "x=-1\n",
    "y2=x**3 + 2*x**2 + x + 3\n",
    "print('Наименьшее значение функции на исследуемом отрезке:', min(y1,y2))\n",
    "print('Наибольшее значение функции на исследуемом отрезке:', max(y1,y2))"
   ]
  },
  {
   "cell_type": "markdown",
   "metadata": {
    "colab_type": "text",
    "id": "zZwKoyIwf4SV"
   },
   "source": [
    "Пример линейной регрессии - это применение полиномов на практике. В следующем примере дан датасет x, y, сгенерированный рандомно. Мы можем использовать линейную регрессию, чтобы предсказать значение переменной y от x. "
   ]
  },
  {
   "cell_type": "code",
   "execution_count": 34,
   "metadata": {
    "colab": {
     "base_uri": "https://localhost:8080/",
     "height": 269
    },
    "colab_type": "code",
    "id": "wyWYYrGnWHVk",
    "outputId": "85df8263-3022-4a15-8a64-204ec3ec56a6"
   },
   "outputs": [
    {
     "data": {
      "image/png": "[encoded data removed]",
      "text/plain": [
       "<Figure size 432x288 with 1 Axes>"
      ]
     },
     "metadata": {
      "needs_background": "light"
     },
     "output_type": "display_data"
    }
   ],
   "source": [
    "import numpy as np\n",
    "import matplotlib.pyplot as plt\n",
    "\n",
    "from sklearn.linear_model import LinearRegression\n",
    "\n",
    "np.random.seed(0)\n",
    "x = 2 - 3 * np.random.normal(0, 1, 100)\n",
    "y = x - 2 * (x ** 2) + 0.5 * (x ** 3) + np.random.normal(-3, 3, 100)\n",
    "\n",
    "# transforming the data to include another axis\n",
    "x = x[:, np.newaxis]\n",
    "y = y[:, np.newaxis]\n",
    "\n",
    "model = LinearRegression()\n",
    "model.fit(x, y)\n",
    "y_pred = model.predict(x)\n",
    "\n",
    "plt.scatter(x, y, s=10)\n",
    "plt.plot(x, y_pred, color='r')\n",
    "\n",
    "plt.show()"
   ]
  },
  {
   "cell_type": "markdown",
   "metadata": {
    "colab_type": "text",
    "id": "_jdDSF1KhGCA"
   },
   "source": [
    "В данном примере найден полином первой степени. Как можно улучшить данную модель? Написать пример. "
   ]
  },
  {
   "cell_type": "markdown",
   "metadata": {},
   "source": [
    "#### Решение:"
   ]
  },
  {
   "cell_type": "markdown",
   "metadata": {},
   "source": [
    "Распределение на графике показывает, что значения разбросаны не вдоль прямой, а вдоль некой кривой. Следовательно, можно попробовать заменить линейную регрессию на полиноминальную"
   ]
  },
  {
   "cell_type": "markdown",
   "metadata": {},
   "source": [
    "График полинома второй степени должен иметь ветви, направленные в одну сторону (вверх или вниз). На данном графике видно, что ветви линии, которая бы наиболее точно повторяла контур разброса значений, направлены в разные стороны (слева - вниз, справа - вверх). Таким образом, считаю наиболее оптимальным попробовать полиноминальную регрессию со степенью 3"
   ]
  },
  {
   "cell_type": "code",
   "execution_count": 37,
   "metadata": {},
   "outputs": [
    {
     "data": {
      "image/png": "[encoded data removed]",
      "text/plain": [
       "<Figure size 720x720 with 1 Axes>"
      ]
     },
     "metadata": {
      "needs_background": "light"
     },
     "output_type": "display_data"
    }
   ],
   "source": [
    "from sklearn.preprocessing import PolynomialFeatures \n",
    "\n",
    "poly = PolynomialFeatures(degree=3)\n",
    "X_pol = poly.fit_transform(x)\n",
    "poly.fit(X_pol,y)\n",
    "\n",
    "lin2 = LinearRegression()\n",
    "model = lin2.fit(X_pol, y)\n",
    "\n",
    "y_pred = model.predict(poly.fit_transform(x))\n",
    "plt.figure(figsize=(10, 10))\n",
    "plt.scatter(x, y, marker='o')\n",
    "plt.scatter(x, y_pred, marker='.',color='r')\n",
    "plt.title('Применение полиноминальной регрессии')\n",
    "plt.legend(['исходные данные', 'полином 3-й степени'])\n",
    "\n",
    "plt.show()"
   ]
  },
  {
   "cell_type": "markdown",
   "metadata": {},
   "source": [
    "На графике видно, что полиноминальная регрессия показала очень хороший результат, значительно превосходящий по точности результат линейной регрессии"
   ]
  }
 ],
 "metadata": {
  "colab": {
   "include_colab_link": true,
   "name": "Untitled2.ipynb",
   "provenance": [],
   "version": "0.3.2"
  },
  "kernelspec": {
   "display_name": "Python 3",
   "language": "python",
   "name": "python3"
  },
  "language_info": {
   "codemirror_mode": {
    "name": "ipython",
    "version": 3
   },
   "file_extension": ".py",
   "mimetype": "text/x-python",
   "name": "python",
   "nbconvert_exporter": "python",
   "pygments_lexer": "ipython3",
   "version": "3.7.3"
  }
 },
 "nbformat": 4,
 "nbformat_minor": 1
}
