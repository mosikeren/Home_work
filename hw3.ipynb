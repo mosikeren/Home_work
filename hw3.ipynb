{
 "cells": [
  {
   "cell_type": "markdown",
   "metadata": {},
   "source": [
    "Задание 1"
   ]
  },
  {
   "cell_type": "code",
   "execution_count": 15,
   "metadata": {},
   "outputs": [],
   "source": [
    "data = [\n",
    "[13, 25, 23, 34],\n",
    "[45, 32, 44, 47],\n",
    "[12, 33, 23, 95],\n",
    "[13, 53, 34, 35],\n",
    "]"
   ]
  },
  {
   "cell_type": "code",
   "execution_count": 16,
   "metadata": {},
   "outputs": [],
   "source": [
    "def diagonal_sum(matrix):\n",
    "    \n",
    "    #Определяем кол-во элементов на главной диагонали\n",
    "    \n",
    "    if len(matrix)>len(matrix[0]):\n",
    "        matrix_index=len(matrix[0])\n",
    "    else:\n",
    "        matrix_index=len(matrix)\n",
    "\n",
    "    #Проходим по главной диагонали и считаем сумму ее элементов\n",
    "    \n",
    "    sum=0\n",
    "    for i in range(matrix_index):\n",
    "        sum+=matrix[i][i]\n",
    "    return sum"
   ]
  },
  {
   "cell_type": "code",
   "execution_count": 17,
   "metadata": {},
   "outputs": [
    {
     "data": {
      "text/plain": [
       "103"
      ]
     },
     "execution_count": 17,
     "metadata": {},
     "output_type": "execute_result"
    }
   ],
   "source": [
    "diagonal_sum(data)"
   ]
  },
  {
   "cell_type": "markdown",
   "metadata": {},
   "source": [
    "Задание 2"
   ]
  },
  {
   "cell_type": "code",
   "execution_count": 18,
   "metadata": {},
   "outputs": [],
   "source": [
    "data = [1, '5', 'abc', 20,'2']"
   ]
  },
  {
   "cell_type": "code",
   "execution_count": 19,
   "metadata": {},
   "outputs": [],
   "source": [
    "def sum_squares(data_list):\n",
    "    sum=0\n",
    "    for i in data_list:\n",
    "        try:                #пробуем возвести элемент списка в квадрат\n",
    "            sum+=i**2\n",
    "        except:             #если не получается\n",
    "            try:            #то пробуем сначала преобразовать в число\n",
    "                sum+=float(i)**2\n",
    "            except: None    #если и это не получается, то пропускаем\n",
    "    return sum   "
   ]
  },
  {
   "cell_type": "code",
   "execution_count": 20,
   "metadata": {},
   "outputs": [
    {
     "data": {
      "text/plain": [
       "430.0"
      ]
     },
     "execution_count": 20,
     "metadata": {},
     "output_type": "execute_result"
    }
   ],
   "source": [
    "sum_squares(data)"
   ]
  },
  {
   "cell_type": "markdown",
   "metadata": {},
   "source": [
    "Задание 3  Напишите функцию, которая возвращает название валюты (поле ‘Name’) с максимальным значением курса"
   ]
  },
  {
   "cell_type": "code",
   "execution_count": 21,
   "metadata": {},
   "outputs": [],
   "source": [
    "import requests\n",
    "class Rate:\n",
    "    def exchange_rates():                           #Функция возвращает словарь валют\n",
    "        r = requests.get('https://www.cbr-xml-daily.ru/daily_json.js')\n",
    "        return r.json()['Valute']    \n",
    "    \n",
    "    def currency_value(currency):                   #Функция возвращает значение 'Value' по обозначению валюты\n",
    "        return Rate.exchange_rates()[currency]['Value']\n",
    "    \n",
    "    def currency_nominal(currency):                 #Функция возвращает номинал по обозначению валюты\n",
    "        return Rate.exchange_rates()[currency]['Nominal']\n",
    "    \n",
    "    def currency_name(currency):                    #Функция возвращает название валюты по ее обозначению \n",
    "        return Rate.exchange_rates()[currency]['Name']\n",
    "    \n",
    "    def max_currency():                             #Функция возвращает название валюты с максимальным курсом с учетом номинала\n",
    "        max_value=0\n",
    "        for i in Rate.exchange_rates().keys():\n",
    "            if max_value<Rate.currency_value(i)/Rate.currency_nominal(i):\n",
    "                max_value=Rate.currency_value(i)/Rate.currency_nominal(i)\n",
    "                max_cur=i\n",
    "        return Rate.currency_name(max_cur)\n",
    "    \n",
    "    def eur(diff):                                  #Функция возвращает курс евро при diff=True, изменение курса при diff=False\n",
    "        if diff==True:\n",
    "            return round(Rate.currency_value('EUR')-Rate.exchange_rates()['EUR']['Previous'],4)\n",
    "        else:\n",
    "            return Rate.currency_value('EUR')\n",
    "\n",
    "    def usd(diff):                                  #Функция возвращает курс доллара при diff=True, изменение курса при diff=False\n",
    "        if diff==True:\n",
    "            return round(Rate.currency_value('USD')-Rate.exchange_rates()['USD']['Previous'],4)\n",
    "        else:\n",
    "            return Rate.currency_value('USD')"
   ]
  },
  {
   "cell_type": "code",
   "execution_count": 22,
   "metadata": {},
   "outputs": [
    {
     "data": {
      "text/plain": [
       "'СДР (специальные права заимствования)'"
      ]
     },
     "execution_count": 22,
     "metadata": {},
     "output_type": "execute_result"
    }
   ],
   "source": [
    "Rate.max_currency()"
   ]
  },
  {
   "cell_type": "markdown",
   "metadata": {},
   "source": [
    "Задание 4.1"
   ]
  },
  {
   "cell_type": "code",
   "execution_count": 23,
   "metadata": {},
   "outputs": [
    {
     "data": {
      "text/plain": [
       "'Евро'"
      ]
     },
     "execution_count": 23,
     "metadata": {},
     "output_type": "execute_result"
    }
   ],
   "source": [
    "Rate.currency_name('EUR')"
   ]
  },
  {
   "cell_type": "markdown",
   "metadata": {},
   "source": [
    "Задание 4.2"
   ]
  },
  {
   "cell_type": "code",
   "execution_count": 24,
   "metadata": {},
   "outputs": [
    {
     "data": {
      "text/plain": [
       "-0.0058"
      ]
     },
     "execution_count": 24,
     "metadata": {},
     "output_type": "execute_result"
    }
   ],
   "source": [
    "Rate.eur(True)"
   ]
  },
  {
   "cell_type": "code",
   "execution_count": 25,
   "metadata": {},
   "outputs": [
    {
     "data": {
      "text/plain": [
       "0.0757"
      ]
     },
     "execution_count": 25,
     "metadata": {},
     "output_type": "execute_result"
    }
   ],
   "source": [
    "Rate.usd(True)"
   ]
  },
  {
   "cell_type": "markdown",
   "metadata": {},
   "source": [
    "Задание 5\n",
    "Напишите функцию, возвращающую сумму первых n чисел Фибоначчи"
   ]
  },
  {
   "cell_type": "code",
   "execution_count": 26,
   "metadata": {},
   "outputs": [],
   "source": [
    "def fibo(n):\n",
    "    if n==0:\n",
    "        return 0\n",
    "    elif n==1:\n",
    "        return 1\n",
    "    else:               #решение через рекурсию\n",
    "        return fibo(n-1)+fibo(n-2)"
   ]
  },
  {
   "cell_type": "code",
   "execution_count": 27,
   "metadata": {},
   "outputs": [
    {
     "data": {
      "text/plain": [
       "55"
      ]
     },
     "execution_count": 27,
     "metadata": {},
     "output_type": "execute_result"
    }
   ],
   "source": [
    "fibo(10)"
   ]
  },
  {
   "cell_type": "markdown",
   "metadata": {},
   "source": [
    "Задание 6\n",
    "Напишите функцию, преобразующую произвольный список вида [‘2018-01-01’, ‘yandex’, ‘cpc’, 100] в словарь {‘2018-01-01’: {‘yandex’: {‘cpc’: 100}}}"
   ]
  },
  {
   "cell_type": "code",
   "execution_count": 28,
   "metadata": {},
   "outputs": [],
   "source": [
    "list_6 =  ['2018-01-01', 'yandex', 'cpc', 100]"
   ]
  },
  {
   "cell_type": "code",
   "execution_count": 29,
   "metadata": {},
   "outputs": [],
   "source": [
    "def list_to_dict(list_):\n",
    "    dict_={}\n",
    "    if len(list_)>2:\n",
    "                                          #здесь тоже рекурсия\n",
    "        dict_.setdefault(list_[0],list_to_dict(list_[1:]))\n",
    "\n",
    "    else:\n",
    "        dict_.setdefault(list_[0],list_[1])\n",
    "        \n",
    "    return dict_"
   ]
  },
  {
   "cell_type": "code",
   "execution_count": 30,
   "metadata": {},
   "outputs": [
    {
     "data": {
      "text/plain": [
       "{'2018-01-01': {'yandex': {'cpc': 100}}}"
      ]
     },
     "execution_count": 30,
     "metadata": {},
     "output_type": "execute_result"
    }
   ],
   "source": [
    "list_to_dict(list_6)"
   ]
  }
 ],
 "metadata": {
  "kernelspec": {
   "display_name": "Python 3",
   "language": "python",
   "name": "python3"
  },
  "language_info": {
   "codemirror_mode": {
    "name": "ipython",
    "version": 3
   },
   "file_extension": ".py",
   "mimetype": "text/x-python",
   "name": "python",
   "nbconvert_exporter": "python",
   "pygments_lexer": "ipython3",
   "version": "3.7.3"
  }
 },
 "nbformat": 4,
 "nbformat_minor": 2
}
