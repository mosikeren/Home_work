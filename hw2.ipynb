{
 "cells": [
  {
   "cell_type": "markdown",
   "metadata": {},
   "source": [
    "Задание 1"
   ]
  },
  {
   "cell_type": "code",
   "execution_count": 31,
   "metadata": {},
   "outputs": [],
   "source": [
    "geo_logs = [\n",
    "    {'visit1': ['Москва', 'Россия']},\n",
    "    {'visit2': ['Дели', 'Индия']},\n",
    "    {'visit3': ['Владимир', 'Россия']},\n",
    "    {'visit4': ['Лиссабон', 'Португалия']},\n",
    "    {'visit5': ['Париж', 'Франция']},\n",
    "    {'visit6': ['Лиссабон', 'Португалия']},\n",
    "    {'visit7': ['Тула', 'Россия']},\n",
    "    {'visit8': ['Тула', 'Россия']},\n",
    "    {'visit9': ['Курск', 'Россия']},\n",
    "    {'visit10': ['Архангельск', 'Россия']},\n",
    "]"
   ]
  },
  {
   "cell_type": "code",
   "execution_count": 32,
   "metadata": {},
   "outputs": [
    {
     "data": {
      "text/plain": [
       "[['Архангельск', 'Россия'],\n",
       " ['Владимир', 'Россия'],\n",
       " ['Курск', 'Россия'],\n",
       " ['Москва', 'Россия'],\n",
       " ['Тула', 'Россия'],\n",
       " ['Тула', 'Россия']]"
      ]
     },
     "execution_count": 32,
     "metadata": {},
     "output_type": "execute_result"
    }
   ],
   "source": [
    "d={}\n",
    "result_list=[]\n",
    "for i in range(len(geo_logs)):\n",
    "    for j in geo_logs[i].values():\n",
    "        if j[1]==\"Россия\":\n",
    "            d.update(geo_logs[i])\n",
    "import operator\n",
    "d = sorted(d.items(), key = operator.itemgetter(1))\n",
    "\n",
    "for i in range(len(d)):\n",
    "    result_list.append(d[i][1])\n",
    "result_list"
   ]
  },
  {
   "cell_type": "markdown",
   "metadata": {},
   "source": [
    "*Задание 2*\n",
    "Выведите на экран все уникальные гео-ID из значений словаря ids. Т. е. список вида [213, 15, 54, 119, 98, 35]\n",
    "ids = {'user1': [213, 213, 213, 15, 213], 'user2': [54, 54, 119, 119, 119], 'user3': [213, 98, 98, 35]}"
   ]
  },
  {
   "cell_type": "code",
   "execution_count": 33,
   "metadata": {},
   "outputs": [],
   "source": [
    "ids = {\n",
    "    'user1': [213, 213, 213, 15, 213], \n",
    "    'user2': [54, 54, 119, 119, 119], \n",
    "    'user3': [213, 98, 98, 35]\n",
    "}"
   ]
  },
  {
   "cell_type": "code",
   "execution_count": 34,
   "metadata": {},
   "outputs": [
    {
     "data": {
      "text/plain": [
       "[213, 15, 54, 119, 98, 35]"
      ]
     },
     "execution_count": 34,
     "metadata": {},
     "output_type": "execute_result"
    }
   ],
   "source": [
    "list_id=[]\n",
    "for i in ids.keys():\n",
    "    for j in ids[i]:\n",
    "        if j not in list_id:\n",
    "            list_id.append(j)\n",
    "list_id"
   ]
  },
  {
   "cell_type": "markdown",
   "metadata": {},
   "source": [
    "*Задание 3*\n",
    "Список поисковых запросов. Получить распределение количества слов в них. Т. е. поисковых запросов из одного слова 5%, из двух - 7%, из трех - 3% итд.\n",
    "queries = [\n",
    "    'смотреть сериалы онлайн',\n",
    "    'новости спорта',\n",
    "    'афиша кино',\n",
    "    'курс доллара',\n",
    "    'сериалы этим летом',\n",
    "    'курс по питону',\n",
    "    'сериалы про спорт',"
   ]
  },
  {
   "cell_type": "code",
   "execution_count": 35,
   "metadata": {},
   "outputs": [],
   "source": [
    "queries = [\n",
    "    'смотреть сериалы онлайн',\n",
    "    'новости спорта',\n",
    "    'афиша кино',\n",
    "    'курс доллара',\n",
    "    'сериалы этим летом',\n",
    "    'курс по питону',\n",
    "    'сериалы про спорт',\n",
    "]"
   ]
  },
  {
   "cell_type": "code",
   "execution_count": 36,
   "metadata": {},
   "outputs": [
    {
     "name": "stdout",
     "output_type": "stream",
     "text": [
      "Запросов с 2 словами:  42.86 %\n",
      "Запросов с 3 словами:  57.14 %\n"
     ]
    }
   ],
   "source": [
    "result_list=[]\n",
    "\n",
    "for i in queries:\n",
    "    temp_list=i.split(' ')\n",
    "    result_list.append(len(temp_list))     #создание списка со значениями, равными количеству слов в запросах списка queries\n",
    "\n",
    "for i in range(min(result_list),max(result_list)+1):\n",
    "    if result_list.count(i)!=0:\n",
    "        print('Запросов с',i,'словами: ',round(result_list.count(i)/len(result_list)*100,2),'%')\n",
    "    "
   ]
  },
  {
   "cell_type": "markdown",
   "metadata": {},
   "source": [
    "*Задание 4*\n",
    "Дана статистика рекламных каналов по объемам продаж. Напишите скрипт, который возвращает название канала с максимальным объемом.\n",
    "Т. е. в данном примере скрипт должен возвращать 'yandex'.\n",
    "stats = {'facebook': 55, 'yandex': 120, 'vk': 115, 'google': 99, 'email': 42, 'ok': 98}"
   ]
  },
  {
   "cell_type": "code",
   "execution_count": 37,
   "metadata": {},
   "outputs": [],
   "source": [
    " stats = {\n",
    "     'facebook': 55, \n",
    "     'yandex': 120, \n",
    "     'vk': 115, \n",
    "     'google': 99, \n",
    "     'email': 42, \n",
    "     'ok': 98\n",
    " }"
   ]
  },
  {
   "cell_type": "code",
   "execution_count": 38,
   "metadata": {},
   "outputs": [
    {
     "data": {
      "text/plain": [
       "'yandex'"
      ]
     },
     "execution_count": 38,
     "metadata": {},
     "output_type": "execute_result"
    }
   ],
   "source": [
    "max_value=0\n",
    "for i in stats.keys():\n",
    "    if stats[i]>max_value:\n",
    "        max_value=stats[i]\n",
    "        key=i\n",
    "key\n",
    "\n",
    "    "
   ]
  },
  {
   "cell_type": "markdown",
   "metadata": {},
   "source": [
    "*Задание 5*\n",
    "Дан поток логов по количеству просмотренных страниц для каждого пользователя. Список отсортирован по ID пользователя. Вам необходимо написать алгоритм, который считает среднее значение просмотров на пользователя. Т. е. надо посчитать отношение суммы всех просмотров к количеству уникальных пользователей. Учтите, что весь список stream не помещается в оперативную память, т. е. его нужно обрабатывать поэлементно в цикле."
   ]
  },
  {
   "cell_type": "code",
   "execution_count": 39,
   "metadata": {},
   "outputs": [],
   "source": [
    "stream = [\n",
    "    '2018-01-01,user1,3',\n",
    "    '2018-01-07,user1,4',\n",
    "    '2018-03-29,user1,1',\n",
    "    '2018-04-04,user1,13',\n",
    "    '2018-01-05,user2,7',\n",
    "    '2018-06-14,user3,4',\n",
    "    '2018-07-02,user3,10',\n",
    "    '2018-03-21,user4,19',\n",
    "    '2018-03-22,user4,4',\n",
    "    '2018-04-22,user4,8',\n",
    "    '2018-05-03,user4,9',\n",
    "    '2018-05-11,user4,11',\n",
    "]"
   ]
  },
  {
   "cell_type": "code",
   "execution_count": 47,
   "metadata": {},
   "outputs": [
    {
     "name": "stdout",
     "output_type": "stream",
     "text": [
      "23.25\n"
     ]
    }
   ],
   "source": [
    "viewing_sum=0\n",
    "\n",
    "for i in stream:\n",
    "    temp_list=i.split(',')\n",
    "    if viewing_sum==0:\n",
    "        current_user=temp_list[1]\n",
    "        users_sum=1\n",
    "    viewing_sum+=int(temp_list[2])\n",
    "    if temp_list[1]!=current_user:\n",
    "        current_user=temp_list[1]\n",
    "        users_sum+=1\n",
    "print(viewing_sum/users_sum)\n",
    "    "
   ]
  },
  {
   "cell_type": "markdown",
   "metadata": {},
   "source": [
    "Задание 6*\n",
    "Дана статистика рекламных кампаний по дням. Напишите алгоритм, который по паре дата-кампания ищет значение численного столбца. Т. е. для даты '2018-01-01' и 'google' нужно получить число 25. Считайте, что все комбинации дата-кампания уникальны, а список stats легко помещается в оперативной памяти."
   ]
  },
  {
   "cell_type": "code",
   "execution_count": 28,
   "metadata": {},
   "outputs": [],
   "source": [
    "stats = [\n",
    "    ['2018-01-01', 'google', 25],\n",
    "    ['2018-01-01', 'yandex', 65],\n",
    "    ['2018-01-01', 'market', 89],\n",
    "    ['2018-01-02', 'google', 574],\n",
    "    ['2018-01-02', 'yandex', 249],\n",
    "    ['2018-01-02', 'market', 994],\n",
    "    ['2018-01-03', 'google', 1843],\n",
    "    ['2018-01-03', 'yandex', 1327],\n",
    "    ['2018-01-03', 'market', 1764],\n",
    "]"
   ]
  },
  {
   "cell_type": "code",
   "execution_count": 29,
   "metadata": {},
   "outputs": [],
   "source": [
    "target_data='2018-01-02'\n",
    "target_company='yandex'"
   ]
  },
  {
   "cell_type": "code",
   "execution_count": 30,
   "metadata": {},
   "outputs": [
    {
     "name": "stdout",
     "output_type": "stream",
     "text": [
      "249\n"
     ]
    }
   ],
   "source": [
    "for i in stats:\n",
    "    if i[0]==target_data:\n",
    "        if i[1]==target_company:\n",
    "            print(i[2])\n",
    "            break"
   ]
  },
  {
   "cell_type": "markdown",
   "metadata": {},
   "source": [
    "Бонусный вариант (делать его не обязательно)\n",
    "Рассмотрите обобщенный вариант этой задачи: имеется таблица из n столбцов. Первые n-1 столбцов - признаки (комбинации этих признаков в таблице уникальные). Последний столбец - значение. Вам необходимо по набору n-1 признаков найти соответствующую строчку в таблице и вернуть значение из правого столбца."
   ]
  },
  {
   "cell_type": "code",
   "execution_count": 51,
   "metadata": {},
   "outputs": [],
   "source": [
    "stats = [\n",
    "    ['2018-01-01', 'google', 'sberbank',25],\n",
    "    ['2018-01-01', 'google', 'citybank',35],\n",
    "    ['2018-01-01', 'google', 'vtb',45],\n",
    "    ['2018-01-01', 'yandex','sberbank', 65],\n",
    "    ['2018-01-01', 'yandex','vtb', 75],\n",
    "    ['2018-01-01', 'market','vtb',89],\n",
    "    ['2018-01-02', 'google','vtb',74],\n",
    "    ['2018-01-02', 'google','citibank',74],\n",
    "    ['2018-01-02', 'yandex','sberbank',249],\n",
    "    ['2018-01-02', 'yandex','vtb',109],\n",
    "    ['2018-01-02', 'market','vtb',994],\n",
    "    ['2018-01-03', 'google','vtb',1843],\n",
    "    ['2018-01-03', 'yandex','citybank', 1327],\n",
    "    ['2018-01-03', 'market','vtb', 1764],\n",
    "    ['2018-01-03', 'market','sberbank', 164],\n",
    "]"
   ]
  },
  {
   "cell_type": "code",
   "execution_count": 55,
   "metadata": {},
   "outputs": [
    {
     "name": "stdout",
     "output_type": "stream",
     "text": [
      "Введите признак 1: 2018-01-03\n",
      "Введите признак 2: yandex\n",
      "Введите признак 3: citybank\n"
     ]
    }
   ],
   "source": [
    "n=len(stats[0])\n",
    "target_attributes=[]\n",
    "for i in range(n-1):\n",
    "    target_attributes.append(input('Введите признак '+str(i+1)+': '))\n"
   ]
  },
  {
   "cell_type": "code",
   "execution_count": 57,
   "metadata": {},
   "outputs": [
    {
     "name": "stdout",
     "output_type": "stream",
     "text": [
      "1327\n"
     ]
    }
   ],
   "source": [
    "for i in stats:\n",
    "    count=0\n",
    "    check=False\n",
    "    for j in target_attributes:\n",
    "        if j!=i[count]:\n",
    "            break\n",
    "        else:\n",
    "            count+=1\n",
    "        if count==n-1:\n",
    "            print(i[n-1])\n",
    "            check=True\n",
    "            break\n",
    "    if check:\n",
    "        break\n",
    "if not check:\n",
    "    print('Запись не найдена')"
   ]
  }
 ],
 "metadata": {
  "kernelspec": {
   "display_name": "Python 3",
   "language": "python",
   "name": "python3"
  }
 },
 "nbformat": 4,
 "nbformat_minor": 2
}
