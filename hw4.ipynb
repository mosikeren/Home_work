{
 "cells": [
  {
   "cell_type": "markdown",
   "metadata": {},
   "source": [
    "Задание 1\n",
    "Напишите функцию date_range, которая возвращает список дней между датами start_date и end_date. Даты должны вводиться в формате YYYY-MM-DD."
   ]
  },
  {
   "cell_type": "code",
   "execution_count": 11,
   "metadata": {},
   "outputs": [],
   "source": [
    "def date_range(start,end):\n",
    "    from datetime import datetime, timedelta\n",
    "    start_date=datetime.strptime(start, '%Y-%m-%d')\n",
    "    end_date=datetime.strptime(end, '%Y-%m-%d')\n",
    "    date_list=[]\n",
    "    current_date=start_date\n",
    "    while current_date<end_date:\n",
    "        current_date+=timedelta(days=1)\n",
    "        if current_date<end_date:\n",
    "            date_list.append(current_date.strftime('%Y-%m-%d'))\n",
    "    return date_list"
   ]
  },
  {
   "cell_type": "code",
   "execution_count": 12,
   "metadata": {},
   "outputs": [
    {
     "data": {
      "text/plain": [
       "['2019-01-31', '2019-02-01', '2019-02-02', '2019-02-03', '2019-02-04']"
      ]
     },
     "execution_count": 12,
     "metadata": {},
     "output_type": "execute_result"
    }
   ],
   "source": [
    "date_range('2019-01-30','2019-02-05')"
   ]
  },
  {
   "cell_type": "markdown",
   "metadata": {},
   "source": [
    "Задание 2\n",
    "Дополните функцию из первого задания проверкой на корректность дат. В случае неверного формата или если start_date > end_date должен возвращаться пустой список."
   ]
  },
  {
   "cell_type": "code",
   "execution_count": 20,
   "metadata": {},
   "outputs": [],
   "source": [
    "def date_range_improved(start,end):\n",
    "    from datetime import datetime, timedelta\n",
    "    try:\n",
    "        start_date=datetime.strptime(start, '%Y-%m-%d')\n",
    "        end_date=datetime.strptime(end, '%Y-%m-%d')\n",
    "    except:\n",
    "        return []\n",
    "    if start>end:   \n",
    "        return []\n",
    "\n",
    "    date_list=[]\n",
    "    current_date=start_date\n",
    "    while current_date<end_date:\n",
    "        current_date+=timedelta(days=1)\n",
    "        if current_date<end_date:\n",
    "            date_list.append(current_date.strftime('%Y-%m-%d'))\n",
    "    return date_list"
   ]
  },
  {
   "cell_type": "code",
   "execution_count": 21,
   "metadata": {},
   "outputs": [
    {
     "data": {
      "text/plain": [
       "[]"
      ]
     },
     "execution_count": 21,
     "metadata": {},
     "output_type": "execute_result"
    }
   ],
   "source": [
    "date_range_improved('2019-01-30','2019-0d1-05')"
   ]
  },
  {
   "cell_type": "code",
   "execution_count": 22,
   "metadata": {},
   "outputs": [
    {
     "data": {
      "text/plain": [
       "[]"
      ]
     },
     "execution_count": 22,
     "metadata": {},
     "output_type": "execute_result"
    }
   ],
   "source": [
    "date_range_improved('2019-01-30','2019-01-26')"
   ]
  },
  {
   "cell_type": "markdown",
   "metadata": {},
   "source": [
    "Задание 3\n",
    "Дан поток дат в формате YYYY-MM-DD, в которых встречаются некорректные значения:\n",
    "stream = [‘2018-04-02’, ‘2018-02-29’, ‘2018-19-02’]\n",
    "\n",
    "Напишите функцию, которая проверяет эти даты на корректность. Т. е. для каждой даты возвращает True (дата корректна) или False (некорректная дата)"
   ]
  },
  {
   "cell_type": "code",
   "execution_count": 24,
   "metadata": {},
   "outputs": [],
   "source": [
    "stream = ['2018-04-02', '2018-02-29', '2018-19-02']"
   ]
  },
  {
   "cell_type": "code",
   "execution_count": 28,
   "metadata": {},
   "outputs": [],
   "source": [
    "def check_data(data_str):\n",
    "    try:\n",
    "        from datetime import datetime\n",
    "        data_data=datetime.strptime(data_str, '%Y-%m-%d')\n",
    "        return True\n",
    "    except:\n",
    "        return False"
   ]
  },
  {
   "cell_type": "code",
   "execution_count": 29,
   "metadata": {},
   "outputs": [
    {
     "name": "stdout",
     "output_type": "stream",
     "text": [
      "True\n",
      "False\n",
      "False\n"
     ]
    }
   ],
   "source": [
    "for i in stream:\n",
    "    print(check_data(i))"
   ]
  },
  {
   "cell_type": "markdown",
   "metadata": {},
   "source": [
    "Задание 4\n",
    "Напишите функцию, которая возвращает список дат с 1 по вчерашний день текущего месяца. Если дан 1 день месяца, то возвращается список дней прошлого месяца."
   ]
  },
  {
   "cell_type": "code",
   "execution_count": 75,
   "metadata": {},
   "outputs": [],
   "source": [
    "def list_of_dates():\n",
    "    from datetime import datetime, timedelta\n",
    "    start_date=datetime.today()-timedelta(days=datetime.today().day-1)   #Устанавливаем стартовую дату на 1-е число\n",
    "  \n",
    "    if datetime.today().day==1:             #а если текущая дата - первое число, то устанавливаем на 1-е число предыдущего месяца\n",
    "        start_date-=timedelta(days=1)\n",
    "        start_date-=timedelta(days=start_date.day-1)\n",
    "    list_date=[]\n",
    "    current_date=start_date\n",
    "    while current_date<datetime.today():\n",
    "        list_date.append(current_date.strftime('%Y-%m-%d'))\n",
    "        current_date+=timedelta(days=1)\n",
    "    return list_date"
   ]
  },
  {
   "cell_type": "code",
   "execution_count": 76,
   "metadata": {},
   "outputs": [
    {
     "data": {
      "text/plain": [
       "['2019-05-01',\n",
       " '2019-05-02',\n",
       " '2019-05-03',\n",
       " '2019-05-04',\n",
       " '2019-05-05',\n",
       " '2019-05-06',\n",
       " '2019-05-07',\n",
       " '2019-05-08',\n",
       " '2019-05-09',\n",
       " '2019-05-10',\n",
       " '2019-05-11',\n",
       " '2019-05-12',\n",
       " '2019-05-13',\n",
       " '2019-05-14',\n",
       " '2019-05-15',\n",
       " '2019-05-16',\n",
       " '2019-05-17',\n",
       " '2019-05-18',\n",
       " '2019-05-19',\n",
       " '2019-05-20',\n",
       " '2019-05-21',\n",
       " '2019-05-22',\n",
       " '2019-05-23']"
      ]
     },
     "execution_count": 76,
     "metadata": {},
     "output_type": "execute_result"
    }
   ],
   "source": [
    "list_of_dates()"
   ]
  }
 ],
 "metadata": {
  "kernelspec": {
   "display_name": "Python 3",
   "language": "python",
   "name": "python3"
  },
  "language_info": {
   "codemirror_mode": {
    "name": "ipython",
    "version": 3
   },
   "file_extension": ".py",
   "mimetype": "text/x-python",
   "name": "python",
   "nbconvert_exporter": "python",
   "pygments_lexer": "ipython3",
   "version": "3.7.3"
  }
 },
 "nbformat": 4,
 "nbformat_minor": 2
}
